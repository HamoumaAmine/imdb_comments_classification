{
 "cells": [
  {
   "cell_type": "code",
   "execution_count": 49,
   "id": "af9e2f37",
   "metadata": {},
   "outputs": [],
   "source": [
    "# Librairies classiques\n",
    "import pandas as pd\n",
    "import numpy as np\n",
    "import os\n",
    "\n",
    "# Pour le NLP\n",
    "import nltk\n",
    "from nltk.corpus import stopwords\n",
    "from nltk.tokenize import word_tokenize\n",
    "import string\n",
    "\n",
    "# Pour sklearn\n",
    "from sklearn.preprocessing import LabelEncoder\n",
    "from sklearn.model_selection import train_test_split\n",
    "\n",
    "# Pour keras\n",
    "from tensorflow.keras.preprocessing.text import Tokenizer\n",
    "from tensorflow.keras.preprocessing.sequence import pad_sequences\n",
    "from tensorflow.keras.models import Sequential, Model\n",
    "from tensorflow.keras.layers import Embedding, LSTM, Dense, Dropout, Input, Attention\n",
    "from tensorflow.keras.callbacks import EarlyStopping, ReduceLROnPlateau"
   ]
  },
  {
   "cell_type": "code",
   "execution_count": 50,
   "id": "2c5f399b",
   "metadata": {},
   "outputs": [
    {
     "name": "stderr",
     "output_type": "stream",
     "text": [
      "[nltk_data] Downloading package punkt_tab to\n",
      "[nltk_data]     C:\\Users\\hamou\\AppData\\Roaming\\nltk_data...\n",
      "[nltk_data]   Package punkt_tab is already up-to-date!\n"
     ]
    },
    {
     "data": {
      "text/plain": [
       "True"
      ]
     },
     "execution_count": 50,
     "metadata": {},
     "output_type": "execute_result"
    }
   ],
   "source": [
    "import nltk\n",
    "nltk.download('punkt_tab')"
   ]
  },
  {
   "cell_type": "code",
   "execution_count": 51,
   "id": "7e5702cd",
   "metadata": {},
   "outputs": [
    {
     "name": "stdout",
     "output_type": "stream",
     "text": [
      "Warning: Looks like you're using an outdated API Version, please consider updating (server 1.7.4.2 / client 1.6.17)\n",
      "Dataset URL: https://www.kaggle.com/datasets/lakshmi25npathi/imdb-dataset-of-50k-movie-reviews\n",
      "License(s): other\n",
      "imdb-dataset-of-50k-movie-reviews.zip: Skipping, found more recently modified local copy (use --force to force download)\n"
     ]
    }
   ],
   "source": [
    "!kaggle datasets download -d lakshmi25npathi/imdb-dataset-of-50k-movie-reviews"
   ]
  },
  {
   "cell_type": "markdown",
   "id": "3d11065e",
   "metadata": {},
   "source": [
    "# Étape 1 : Chargement et exploration des données"
   ]
  },
  {
   "cell_type": "code",
   "execution_count": 52,
   "id": "35193175",
   "metadata": {},
   "outputs": [],
   "source": [
    "df = pd.read_csv(\"imdb-dataset-of-50k-movie-reviews/IMDB Dataset.csv\")"
   ]
  },
  {
   "cell_type": "code",
   "execution_count": 53,
   "id": "e0873c1e",
   "metadata": {},
   "outputs": [
    {
     "name": "stdout",
     "output_type": "stream",
     "text": [
      "                                              review sentiment\n",
      "0  One of the other reviewers has mentioned that ...  positive\n",
      "1  A wonderful little production. <br /><br />The...  positive\n",
      "2  I thought this was a wonderful way to spend ti...  positive\n",
      "3  Basically there's a family where a little boy ...  negative\n",
      "4  Petter Mattei's \"Love in the Time of Money\" is...  positive\n"
     ]
    }
   ],
   "source": [
    "print(df.head())"
   ]
  },
  {
   "cell_type": "code",
   "execution_count": 54,
   "id": "32846698",
   "metadata": {},
   "outputs": [
    {
     "name": "stdout",
     "output_type": "stream",
     "text": [
      "<class 'pandas.core.frame.DataFrame'>\n",
      "RangeIndex: 50000 entries, 0 to 49999\n",
      "Data columns (total 2 columns):\n",
      " #   Column     Non-Null Count  Dtype \n",
      "---  ------     --------------  ----- \n",
      " 0   review     50000 non-null  object\n",
      " 1   sentiment  50000 non-null  object\n",
      "dtypes: object(2)\n",
      "memory usage: 781.4+ KB\n",
      "None\n"
     ]
    }
   ],
   "source": [
    "print(df.info())"
   ]
  },
  {
   "cell_type": "code",
   "execution_count": 55,
   "id": "24f61147",
   "metadata": {},
   "outputs": [
    {
     "name": "stdout",
     "output_type": "stream",
     "text": [
      "['positive' 'negative']\n"
     ]
    }
   ],
   "source": [
    "print(df['sentiment'].unique())"
   ]
  },
  {
   "cell_type": "code",
   "execution_count": 56,
   "id": "947a2086",
   "metadata": {},
   "outputs": [
    {
     "name": "stdout",
     "output_type": "stream",
     "text": [
      "sentiment\n",
      "positive    25000\n",
      "negative    25000\n",
      "Name: count, dtype: int64\n"
     ]
    }
   ],
   "source": [
    "print(df['sentiment'].value_counts())"
   ]
  },
  {
   "cell_type": "markdown",
   "id": "3f583c7f",
   "metadata": {},
   "source": [
    "# Étape 2 : Nettoyage et prétraitement du texte"
   ]
  },
  {
   "cell_type": "code",
   "execution_count": 57,
   "id": "07b810b3",
   "metadata": {},
   "outputs": [
    {
     "name": "stderr",
     "output_type": "stream",
     "text": [
      "[nltk_data] Downloading package stopwords to\n",
      "[nltk_data]     C:\\Users\\hamou\\AppData\\Roaming\\nltk_data...\n",
      "[nltk_data]   Package stopwords is already up-to-date!\n",
      "[nltk_data] Downloading package punkt to\n",
      "[nltk_data]     C:\\Users\\hamou\\AppData\\Roaming\\nltk_data...\n",
      "[nltk_data]   Package punkt is already up-to-date!\n",
      "[nltk_data] Downloading package wordnet to\n",
      "[nltk_data]     C:\\Users\\hamou\\AppData\\Roaming\\nltk_data...\n",
      "[nltk_data]   Package wordnet is already up-to-date!\n",
      "[nltk_data] Downloading package omw-1.4 to\n",
      "[nltk_data]     C:\\Users\\hamou\\AppData\\Roaming\\nltk_data...\n",
      "[nltk_data]   Package omw-1.4 is already up-to-date!\n"
     ]
    },
    {
     "name": "stdout",
     "output_type": "stream",
     "text": [
      "0    one reviewer mentioned watching 1 oz episode '...\n",
      "1    wonderful little production br br filming tech...\n",
      "2    thought wonderful way spend time hot summer we...\n",
      "3    basically 's family little boy jake think 's z...\n",
      "4    petter mattei 's `` love time money '' visuall...\n",
      "Name: cleaned_review, dtype: object\n"
     ]
    }
   ],
   "source": [
    "import nltk\n",
    "from nltk.corpus import stopwords\n",
    "from nltk.tokenize import word_tokenize\n",
    "from nltk.stem import WordNetLemmatizer\n",
    "import string\n",
    "\n",
    "# Téléchargements nécessaires\n",
    "nltk.download('stopwords')\n",
    "nltk.download('punkt')\n",
    "nltk.download('wordnet')\n",
    "nltk.download('omw-1.4')  # Pour les lemmes multilingues\n",
    "\n",
    "# Initialisation\n",
    "stop_words = set(stopwords.words('english'))\n",
    "lemmatizer = WordNetLemmatizer()\n",
    "\n",
    "# Fonction modifiée avec lemmatisation\n",
    "def clean_text(text):\n",
    "    tokens = word_tokenize(text.lower())\n",
    "    tokens = [\n",
    "        lemmatizer.lemmatize(word)\n",
    "        for word in tokens\n",
    "        if word not in stop_words and word not in string.punctuation\n",
    "    ]\n",
    "    return \" \".join(tokens)\n",
    "\n",
    "# Application au dataset\n",
    "df['cleaned_review'] = df['review'].apply(clean_text)\n",
    "print(df['cleaned_review'].head())\n",
    "\n"
   ]
  },
  {
   "cell_type": "markdown",
   "id": "8691e264",
   "metadata": {},
   "source": [
    "# Étape 3 : Encodage des labels"
   ]
  },
  {
   "cell_type": "code",
   "execution_count": 58,
   "id": "403c0e97",
   "metadata": {},
   "outputs": [
    {
     "name": "stdout",
     "output_type": "stream",
     "text": [
      "  sentiment  sentiment_encoded\n",
      "0  positive                  1\n",
      "1  positive                  1\n",
      "2  positive                  1\n",
      "3  negative                  0\n",
      "4  positive                  1\n"
     ]
    }
   ],
   "source": [
    "from sklearn.preprocessing import LabelEncoder\n",
    "\n",
    "le = LabelEncoder()\n",
    "df['sentiment_encoded'] = le.fit_transform(df['sentiment'])\n",
    "print(df[['sentiment', 'sentiment_encoded']].head())\n"
   ]
  },
  {
   "cell_type": "markdown",
   "id": "7fc64dfe",
   "metadata": {},
   "source": [
    "# Étape 4 : Séparation des données en train/test"
   ]
  },
  {
   "cell_type": "code",
   "execution_count": 59,
   "id": "27566f24",
   "metadata": {},
   "outputs": [],
   "source": [
    "from sklearn.model_selection import train_test_split\n",
    "\n",
    "X = df['cleaned_review']\n",
    "y = df['sentiment_encoded']\n",
    "\n",
    "X_train, X_test, y_train, y_test = train_test_split(X, y, test_size=0.2, random_state=42)\n"
   ]
  },
  {
   "cell_type": "markdown",
   "id": "cd4505f8",
   "metadata": {},
   "source": [
    "# Étape 5 : Tokenization + padding"
   ]
  },
  {
   "cell_type": "code",
   "execution_count": 60,
   "id": "4e238eaa",
   "metadata": {},
   "outputs": [],
   "source": [
    "from tensorflow.keras.preprocessing.text import Tokenizer\n",
    "from tensorflow.keras.preprocessing.sequence import pad_sequences\n",
    "\n",
    "tokenizer = Tokenizer(num_words=5000)\n",
    "tokenizer.fit_on_texts(X_train)\n",
    "\n",
    "X_train_seq = tokenizer.texts_to_sequences(X_train)\n",
    "X_test_seq = tokenizer.texts_to_sequences(X_test)\n",
    "\n",
    "max_len = 100\n",
    "X_train_pad = pad_sequences(X_train_seq, maxlen=max_len)\n",
    "X_test_pad = pad_sequences(X_test_seq, maxlen=max_len)\n"
   ]
  },
  {
   "cell_type": "code",
   "execution_count": 61,
   "id": "5f4134c1",
   "metadata": {},
   "outputs": [
    {
     "name": "stdout",
     "output_type": "stream",
     "text": [
      "Exemple séquence padding: [   8 2709 3480 1527   67  119  121  114   67  964 1109    6  984    3\n",
      "  877  284    5  379  157   15   41   41  485 3110   95 1245   94 4048\n",
      "  120  587  259 4942 2120  192  517  252 2770 1103 3392   62  351  918\n",
      " 1033  757 1099  163 2710  290  523    1    1  178 3339  876 1152   15\n",
      "  129    7  110 1224  890 4574  127  267 1520    7 2344    2  109  767\n",
      " 2646  694   79   64   82   38    6  370  130  211 1343 1452 4386  426\n",
      "    4 3183 1655 2284  227  320 2422 2012  483  418 3405  354   77  116\n",
      "  132 3597]\n",
      "Train shape: (40000, 100), Test shape: (10000, 100)\n",
      "Train labels shape: (40000,), Test labels shape: (10000,)\n"
     ]
    }
   ],
   "source": [
    "print(\"Exemple séquence padding:\", X_train_pad[0])\n",
    "\n",
    "# --- Fin de la préparation ---\n",
    "print(f\"Train shape: {X_train_pad.shape}, Test shape: {X_test_pad.shape}\")\n",
    "print(f\"Train labels shape: {y_train.shape}, Test labels shape: {y_test.shape}\")"
   ]
  },
  {
   "cell_type": "markdown",
   "id": "57cd74e4",
   "metadata": {},
   "source": [
    "# Modèle LSTM"
   ]
  },
  {
   "cell_type": "markdown",
   "id": "9cab5296",
   "metadata": {},
   "source": [
    "# 📌 Comparaison des pertes Keras\n",
    "\n",
    "## ✅ Tableau récapitulatif\n",
    "\n",
    "| Perte                           | Type de problème       | Format des labels              | Dernière couche recommandée           |\n",
    "| ------------------------------- | ----------------------- | ------------------------------ | ------------------------------------- |\n",
    "| `binary_crossentropy`           | Binaire (2 classes)     | 0 ou 1                         | `Dense(1, activation='sigmoid')`      |\n",
    "| `categorical_crossentropy(notgood)`      | Multi-classes (>2)      | One-hot encoding (ex: [0,1,0]) | `Dense(num_classes, activation='softmax')` |\n",
    "| `sparse_categorical_crossentropy` | Multi-classes (>2)    | Entiers (ex: 0, 1, 2)          | `Dense(num_classes, activation='softmax')` |\n",
    "\n",
    "---\n",
    "\n",
    "## ✅ Explications courtes\n",
    "\n",
    "- **binary_crossentropy**\n",
    "  - ✔️ Pour **2 classes** (exemple : positif / négatif)\n",
    "  - ✔️ Labels attendus : 0 ou 1\n",
    "  - ✔️ Dernière couche : `Dense(1, activation='sigmoid')`\n",
    "\n",
    "---\n",
    "\n",
    "- **categorical_crossentropy** \n",
    "  - ✔️ Pour **multi-classes** (> 2 classes)\n",
    "  - ✔️ Labels attendus : **one-hot encoded** (exemple : [0,1,0])\n",
    "  - ✔️ Dernière couche : `Dense(num_classes, activation='softmax')`\n",
    "\n",
    "---\n",
    "\n",
    "- **sparse_categorical_crossentropy**\n",
    "  - ✔️ Pour **multi-classes** (> 2 classes)\n",
    "  - ✔️ Labels attendus : **entiers** (exemple : 0, 1, 2)\n",
    "  - ✔️ Pas besoin de one-hot encoding\n",
    "  - ✔️ Dernière couche : `Dense(num_classes, activation='softmax')`\n",
    "\n",
    "---\n",
    "\n",
    "## ✅ Résumé ultra-court\n",
    "\n",
    "> ⭐️ **Binary** = 2 classes.  \n",
    "> ⭐️ **Categorical** = one-hot.  \n",
    "> ⭐️ **Sparse categorical** = entiers.\n"
   ]
  },
  {
   "cell_type": "code",
   "execution_count": null,
   "id": "7acbf1c1",
   "metadata": {},
   "outputs": [
    {
     "name": "stderr",
     "output_type": "stream",
     "text": [
      "c:\\Users\\hamou\\AppData\\Local\\Programs\\Python\\Python310\\lib\\site-packages\\keras\\src\\layers\\core\\embedding.py:97: UserWarning: Argument `input_length` is deprecated. Just remove it.\n",
      "  warnings.warn(\n"
     ]
    },
    {
     "data": {
      "text/html": [
       "<pre style=\"white-space:pre;overflow-x:auto;line-height:normal;font-family:Menlo,'DejaVu Sans Mono',consolas,'Courier New',monospace\"><span style=\"font-weight: bold\">Model: \"sequential_1\"</span>\n",
       "</pre>\n"
      ],
      "text/plain": [
       "\u001b[1mModel: \"sequential_1\"\u001b[0m\n"
      ]
     },
     "metadata": {},
     "output_type": "display_data"
    },
    {
     "data": {
      "text/html": [
       "<pre style=\"white-space:pre;overflow-x:auto;line-height:normal;font-family:Menlo,'DejaVu Sans Mono',consolas,'Courier New',monospace\">┏━━━━━━━━━━━━━━━━━━━━━━━━━━━━━━━━━┳━━━━━━━━━━━━━━━━━━━━━━━━┳━━━━━━━━━━━━━━━┓\n",
       "┃<span style=\"font-weight: bold\"> Layer (type)                    </span>┃<span style=\"font-weight: bold\"> Output Shape           </span>┃<span style=\"font-weight: bold\">       Param # </span>┃\n",
       "┡━━━━━━━━━━━━━━━━━━━━━━━━━━━━━━━━━╇━━━━━━━━━━━━━━━━━━━━━━━━╇━━━━━━━━━━━━━━━┩\n",
       "│ embedding_1 (<span style=\"color: #0087ff; text-decoration-color: #0087ff\">Embedding</span>)         │ ?                      │   <span style=\"color: #00af00; text-decoration-color: #00af00\">0</span> (unbuilt) │\n",
       "├─────────────────────────────────┼────────────────────────┼───────────────┤\n",
       "│ lstm_2 (<span style=\"color: #0087ff; text-decoration-color: #0087ff\">LSTM</span>)                   │ ?                      │   <span style=\"color: #00af00; text-decoration-color: #00af00\">0</span> (unbuilt) │\n",
       "├─────────────────────────────────┼────────────────────────┼───────────────┤\n",
       "│ dropout_2 (<span style=\"color: #0087ff; text-decoration-color: #0087ff\">Dropout</span>)             │ ?                      │             <span style=\"color: #00af00; text-decoration-color: #00af00\">0</span> │\n",
       "├─────────────────────────────────┼────────────────────────┼───────────────┤\n",
       "│ lstm_3 (<span style=\"color: #0087ff; text-decoration-color: #0087ff\">LSTM</span>)                   │ ?                      │   <span style=\"color: #00af00; text-decoration-color: #00af00\">0</span> (unbuilt) │\n",
       "├─────────────────────────────────┼────────────────────────┼───────────────┤\n",
       "│ dropout_3 (<span style=\"color: #0087ff; text-decoration-color: #0087ff\">Dropout</span>)             │ ?                      │             <span style=\"color: #00af00; text-decoration-color: #00af00\">0</span> │\n",
       "├─────────────────────────────────┼────────────────────────┼───────────────┤\n",
       "│ dense_1 (<span style=\"color: #0087ff; text-decoration-color: #0087ff\">Dense</span>)                 │ ?                      │   <span style=\"color: #00af00; text-decoration-color: #00af00\">0</span> (unbuilt) │\n",
       "└─────────────────────────────────┴────────────────────────┴───────────────┘\n",
       "</pre>\n"
      ],
      "text/plain": [
       "┏━━━━━━━━━━━━━━━━━━━━━━━━━━━━━━━━━┳━━━━━━━━━━━━━━━━━━━━━━━━┳━━━━━━━━━━━━━━━┓\n",
       "┃\u001b[1m \u001b[0m\u001b[1mLayer (type)                   \u001b[0m\u001b[1m \u001b[0m┃\u001b[1m \u001b[0m\u001b[1mOutput Shape          \u001b[0m\u001b[1m \u001b[0m┃\u001b[1m \u001b[0m\u001b[1m      Param #\u001b[0m\u001b[1m \u001b[0m┃\n",
       "┡━━━━━━━━━━━━━━━━━━━━━━━━━━━━━━━━━╇━━━━━━━━━━━━━━━━━━━━━━━━╇━━━━━━━━━━━━━━━┩\n",
       "│ embedding_1 (\u001b[38;5;33mEmbedding\u001b[0m)         │ ?                      │   \u001b[38;5;34m0\u001b[0m (unbuilt) │\n",
       "├─────────────────────────────────┼────────────────────────┼───────────────┤\n",
       "│ lstm_2 (\u001b[38;5;33mLSTM\u001b[0m)                   │ ?                      │   \u001b[38;5;34m0\u001b[0m (unbuilt) │\n",
       "├─────────────────────────────────┼────────────────────────┼───────────────┤\n",
       "│ dropout_2 (\u001b[38;5;33mDropout\u001b[0m)             │ ?                      │             \u001b[38;5;34m0\u001b[0m │\n",
       "├─────────────────────────────────┼────────────────────────┼───────────────┤\n",
       "│ lstm_3 (\u001b[38;5;33mLSTM\u001b[0m)                   │ ?                      │   \u001b[38;5;34m0\u001b[0m (unbuilt) │\n",
       "├─────────────────────────────────┼────────────────────────┼───────────────┤\n",
       "│ dropout_3 (\u001b[38;5;33mDropout\u001b[0m)             │ ?                      │             \u001b[38;5;34m0\u001b[0m │\n",
       "├─────────────────────────────────┼────────────────────────┼───────────────┤\n",
       "│ dense_1 (\u001b[38;5;33mDense\u001b[0m)                 │ ?                      │   \u001b[38;5;34m0\u001b[0m (unbuilt) │\n",
       "└─────────────────────────────────┴────────────────────────┴───────────────┘\n"
      ]
     },
     "metadata": {},
     "output_type": "display_data"
    },
    {
     "data": {
      "text/html": [
       "<pre style=\"white-space:pre;overflow-x:auto;line-height:normal;font-family:Menlo,'DejaVu Sans Mono',consolas,'Courier New',monospace\"><span style=\"font-weight: bold\"> Total params: </span><span style=\"color: #00af00; text-decoration-color: #00af00\">0</span> (0.00 B)\n",
       "</pre>\n"
      ],
      "text/plain": [
       "\u001b[1m Total params: \u001b[0m\u001b[38;5;34m0\u001b[0m (0.00 B)\n"
      ]
     },
     "metadata": {},
     "output_type": "display_data"
    },
    {
     "data": {
      "text/html": [
       "<pre style=\"white-space:pre;overflow-x:auto;line-height:normal;font-family:Menlo,'DejaVu Sans Mono',consolas,'Courier New',monospace\"><span style=\"font-weight: bold\"> Trainable params: </span><span style=\"color: #00af00; text-decoration-color: #00af00\">0</span> (0.00 B)\n",
       "</pre>\n"
      ],
      "text/plain": [
       "\u001b[1m Trainable params: \u001b[0m\u001b[38;5;34m0\u001b[0m (0.00 B)\n"
      ]
     },
     "metadata": {},
     "output_type": "display_data"
    },
    {
     "data": {
      "text/html": [
       "<pre style=\"white-space:pre;overflow-x:auto;line-height:normal;font-family:Menlo,'DejaVu Sans Mono',consolas,'Courier New',monospace\"><span style=\"font-weight: bold\"> Non-trainable params: </span><span style=\"color: #00af00; text-decoration-color: #00af00\">0</span> (0.00 B)\n",
       "</pre>\n"
      ],
      "text/plain": [
       "\u001b[1m Non-trainable params: \u001b[0m\u001b[38;5;34m0\u001b[0m (0.00 B)\n"
      ]
     },
     "metadata": {},
     "output_type": "display_data"
    },
    {
     "name": "stdout",
     "output_type": "stream",
     "text": [
      "Epoch 1/10\n",
      "\u001b[1m500/500\u001b[0m \u001b[32m━━━━━━━━━━━━━━━━━━━━\u001b[0m\u001b[37m\u001b[0m \u001b[1m73s\u001b[0m 142ms/step - accuracy: 0.7799 - loss: 0.4436 - val_accuracy: 0.8783 - val_loss: 0.2923 - learning_rate: 0.0010\n",
      "Epoch 2/10\n",
      "\u001b[1m500/500\u001b[0m \u001b[32m━━━━━━━━━━━━━━━━━━━━\u001b[0m\u001b[37m\u001b[0m \u001b[1m97s\u001b[0m 195ms/step - accuracy: 0.9045 - loss: 0.2423 - val_accuracy: 0.8727 - val_loss: 0.3018 - learning_rate: 0.0010\n",
      "Epoch 3/10\n",
      "\u001b[1m500/500\u001b[0m \u001b[32m━━━━━━━━━━━━━━━━━━━━\u001b[0m\u001b[37m\u001b[0m \u001b[1m57s\u001b[0m 113ms/step - accuracy: 0.9262 - loss: 0.1938 - val_accuracy: 0.8751 - val_loss: 0.3134 - learning_rate: 0.0010\n",
      "Epoch 4/10\n",
      "\u001b[1m500/500\u001b[0m \u001b[32m━━━━━━━━━━━━━━━━━━━━\u001b[0m\u001b[37m\u001b[0m \u001b[1m57s\u001b[0m 114ms/step - accuracy: 0.9556 - loss: 0.1283 - val_accuracy: 0.8689 - val_loss: 0.3751 - learning_rate: 5.0000e-04\n"
     ]
    }
   ],
   "source": [
    "from tensorflow.keras.models import Sequential\n",
    "from tensorflow.keras.layers import Embedding, LSTM, Dense, Dropout\n",
    "from tensorflow.keras.callbacks import EarlyStopping, ReduceLROnPlateau\n",
    "\n",
    "# Paramètres\n",
    "vocab_size = 5000  # comme dans le tokenizer\n",
    "embedding_dim = 128 #Convertit chaque mot (indice) en un vecteur dense de taille 128.\n",
    "max_len = 100 # longueur fixe des séquences en entrée (padding/troncature).\n",
    "\n",
    "# Construction du modèle\n",
    "model_lstm = Sequential([\n",
    "    Embedding(input_dim=vocab_size, output_dim=embedding_dim, input_length=max_len),# un neuron de 640 000 = 5000 * 128p\n",
    "    LSTM(128, return_sequences=True), #Convertit chaque mot (indice) en un vecteur dense de taille 128.\n",
    "    Dropout(0.2), #Régularisation pour réduire le surapprentissage en \"éteignant\" aléatoirement 20% des neurones pendant l’entraînement.\n",
    "    LSTM(64), #Deuxième LSTM (64 unités), Traite la séquence produite par la couche précédente.\n",
    "              # <--- cette couche retourne un vecteur de taille 64\n",
    "    Dropout(0.2), #Nouvelle régularisation.\n",
    "    Dense(1, activation='sigmoid')  # classification binaire\n",
    "])\n",
    "\n",
    "#Compile le modèle pour le préparer à l’entraînement.\n",
    "model_lstm.compile(loss='binary_crossentropy', optimizer='adam', metrics=['accuracy'])\n",
    "#Affiche un résumé détaillé du modèle\n",
    "model_lstm.summary()\n",
    "\n",
    "# Callbacks\n",
    "#Arrête l’entraînement automatiquement si la perte de validation (val_loss) ne s’améliore pas pendant 3 epochs consécutives.\n",
    "early_stop = EarlyStopping(monitor='val_loss', patience=3, restore_best_weights=True)\n",
    "#Réduit le taux d’apprentissage (learning rate) par un facteur 0.5 si la perte de validation (val_loss) ne s’améliore pas pendant 2 epochs.\n",
    "reduce_lr = ReduceLROnPlateau(monitor='val_loss', factor=0.5, patience=2)\n",
    "\n",
    "# Entraînement\n",
    "history = model_lstm.fit(\n",
    "    X_train_pad, y_train,\n",
    "    validation_split=0.2,\n",
    "    epochs=10,\n",
    "    batch_size=64,\n",
    "    callbacks=[early_stop, reduce_lr]\n",
    ")\n"
   ]
  },
  {
   "cell_type": "markdown",
   "id": "c498fa4f",
   "metadata": {},
   "source": [
    "# Évaluation complète du modèle LSTM : matrice de confusion, métriques de performance et courbe ROC"
   ]
  },
  {
   "cell_type": "code",
   "execution_count": 63,
   "id": "93bb4fbc",
   "metadata": {},
   "outputs": [
    {
     "name": "stdout",
     "output_type": "stream",
     "text": [
      "\u001b[1m313/313\u001b[0m \u001b[32m━━━━━━━━━━━━━━━━━━━━\u001b[0m\u001b[37m\u001b[0m \u001b[1m8s\u001b[0m 25ms/step\n",
      "Matrice de Confusion :\n",
      "[[4334  627]\n",
      " [ 565 4474]]\n",
      "\n",
      "Rapport de classification :\n",
      "              precision    recall  f1-score   support\n",
      "\n",
      "           0       0.88      0.87      0.88      4961\n",
      "           1       0.88      0.89      0.88      5039\n",
      "\n",
      "    accuracy                           0.88     10000\n",
      "   macro avg       0.88      0.88      0.88     10000\n",
      "weighted avg       0.88      0.88      0.88     10000\n",
      "\n"
     ]
    },
    {
     "data": {
      "image/png": "[encoded data removed]",
      "text/plain": [
       "<Figure size 800x600 with 1 Axes>"
      ]
     },
     "metadata": {},
     "output_type": "display_data"
    }
   ],
   "source": [
    "import matplotlib.pyplot as plt\n",
    "from sklearn.metrics import confusion_matrix, classification_report, roc_curve, auc\n",
    "\n",
    "# Prédictions sur le jeu test (probabilités)\n",
    "y_pred_prob = model_lstm.predict(X_test_pad)\n",
    "\n",
    "# Seuil à 0.5 pour obtenir les classes prédites\n",
    "y_pred = (y_pred_prob > 0.5).astype(int)\n",
    "\n",
    "# Matrice de confusion\n",
    "cm = confusion_matrix(y_test, y_pred)\n",
    "print(\"Matrice de Confusion :\")\n",
    "print(cm)\n",
    "\n",
    "# Rapport de classification (precision, recall, f1-score)\n",
    "print(\"\\nRapport de classification :\")\n",
    "print(classification_report(y_test, y_pred))\n",
    "\n",
    "# Calcul ROC & AUC\n",
    "fpr, tpr, thresholds = roc_curve(y_test, y_pred_prob)\n",
    "roc_auc = auc(fpr, tpr)\n",
    "\n",
    "# Tracé de la courbe ROC\n",
    "plt.figure(figsize=(8,6))\n",
    "plt.plot(fpr, tpr, label=f'ROC curve (AUC = {roc_auc:.3f})')\n",
    "plt.plot([0,1], [0,1], 'k--', label='Random guess')\n",
    "plt.xlabel('False Positive Rate')\n",
    "plt.ylabel('True Positive Rate')\n",
    "plt.title('Courbe ROC - Modèle LSTM')\n",
    "plt.legend(loc='lower right')\n",
    "plt.grid()\n",
    "plt.show()\n"
   ]
  },
  {
   "cell_type": "markdown",
   "id": "cf71ed8b",
   "metadata": {},
   "source": [
    "## Axes\n",
    "Axe des X (False Positive Rate - FPR) : Taux de faux positifs, c’est-à-dire la proportion de négatifs mal classés en positifs.\n",
    "\n",
    "## Axe des Y (True Positive Rate - TPR) : Taux de vrais positifs, la proportion de positifs correctement détectés (aussi appelé sensibilité ou recall).\n",
    "\n",
    "## Courbe ROC\n",
    "La courbe montre le compromis entre TPR et FPR à différents seuils de classification.\n",
    "\n",
    "Plus la courbe est proche du coin supérieur gauche (TPR=1, FPR=0), meilleur est le modèle.\n",
    "\n",
    "## AUC (Area Under the Curve)\n",
    "L’aire sous la courbe ROC est ici 0.950.\n",
    "\n",
    "L’AUC mesure la capacité du modèle à distinguer entre classes positives et négatives.\n",
    "\n",
    "Une AUC de 0.95 est excellente, cela signifie que ton modèle a 95% de chances de classer correctement un exemple positif par rapport à un négatif.\n",
    "\n",
    "## La ligne pointillée\n",
    "Elle correspond à un modèle aléatoire (AUC=0.5).\n",
    "\n",
    "Ta courbe étant bien au-dessus, ton modèle est clairement performant."
   ]
  },
  {
   "cell_type": "markdown",
   "id": "f649aed5",
   "metadata": {},
   "source": [
    "# Test sur une phrase pas dans le dataset"
   ]
  },
  {
   "cell_type": "code",
   "execution_count": 64,
   "id": "f9511a72",
   "metadata": {},
   "outputs": [
    {
     "name": "stdout",
     "output_type": "stream",
     "text": [
      "Séquence préparée : [[  0   0   0   0   0   0   0   0   0   0   0   0   0   0   0   0   0   0\n",
      "    0   0   0   0   0   0   0   0   0   0   0   0   0   0   0   0   0   0\n",
      "    0   0   0   0   0   0   0   0   0   0   0   0   0   0   0   0   0   0\n",
      "    0   0   0   0   0   0   0   0   0   0   0   0   0   0   0   0   0   0\n",
      "    0   0   0   0   0   0   0   0   0   0   0   0   0   0   0   0   0   0\n",
      "    0   0   0   0   0   0   0   0   3 255]]\n"
     ]
    }
   ],
   "source": [
    "def preprocess_text(text):\n",
    "    tokens = word_tokenize(text.lower())\n",
    "    tokens = [word for word in tokens if word not in stop_words and word not in string.punctuation]\n",
    "    cleaned = \" \".join(tokens)\n",
    "    return cleaned\n",
    "\n",
    "# Exemple de nouvelle critique\n",
    "# new_review = \"This movie was amazing, I really enjoyed the story and the characters.\"\n",
    "new_review = \"This movie was boring.\"\n",
    "# Nettoyage\n",
    "cleaned_review = preprocess_text(new_review)\n",
    "\n",
    "# Tokenization + séquence\n",
    "seq = tokenizer.texts_to_sequences([cleaned_review])\n",
    "\n",
    "# Padding\n",
    "seq_pad = pad_sequences(seq, maxlen=max_len)\n",
    "\n",
    "print(\"Séquence préparée :\", seq_pad)\n"
   ]
  },
  {
   "cell_type": "code",
   "execution_count": 65,
   "id": "20cdd34b",
   "metadata": {},
   "outputs": [
    {
     "name": "stdout",
     "output_type": "stream",
     "text": [
      "\u001b[1m1/1\u001b[0m \u001b[32m━━━━━━━━━━━━━━━━━━━━\u001b[0m\u001b[37m\u001b[0m \u001b[1m0s\u001b[0m 43ms/step\n",
      "Sentiment prédit : negative (probabilité=0.173)\n"
     ]
    }
   ],
   "source": [
    "# Prédiction (probabilité)\n",
    "prob = model_lstm.predict(seq_pad)[0][0]\n",
    "\n",
    "# Seuil 0.5 pour classer en 0 ou 1\n",
    "pred_class = int(prob > 0.5)\n",
    "\n",
    "# Décoder label\n",
    "pred_label = le.inverse_transform([pred_class])[0]\n",
    "\n",
    "print(f\"Sentiment prédit : {pred_label} (probabilité={prob:.3f})\")\n"
   ]
  },
  {
   "cell_type": "code",
   "execution_count": null,
   "id": "82129b28",
   "metadata": {},
   "outputs": [],
   "source": []
  }
 ],
 "metadata": {
  "kernelspec": {
   "display_name": "Python 3",
   "language": "python",
   "name": "python3"
  },
  "language_info": {
   "codemirror_mode": {
    "name": "ipython",
    "version": 3
   },
   "file_extension": ".py",
   "mimetype": "text/x-python",
   "name": "python",
   "nbconvert_exporter": "python",
   "pygments_lexer": "ipython3",
   "version": "3.10.0"
  }
 },
 "nbformat": 4,
 "nbformat_minor": 5
}
